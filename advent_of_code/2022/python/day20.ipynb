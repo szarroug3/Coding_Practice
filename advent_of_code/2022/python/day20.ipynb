{
 "cells": [
  {
   "cell_type": "code",
   "execution_count": 1,
   "metadata": {},
   "outputs": [],
   "source": [
    "# !/bin/python3\n",
    "# https://adventofcode.com/2022/day/20\n",
    "\n",
    "%load_ext lab_black"
   ]
  },
  {
   "cell_type": "code",
   "execution_count": 2,
   "metadata": {},
   "outputs": [],
   "source": [
    "from utils import read_input"
   ]
  },
  {
   "cell_type": "code",
   "execution_count": 3,
   "metadata": {},
   "outputs": [],
   "source": [
    "def mix(data, rounds):\n",
    "    length = len(data)\n",
    "    result = list(range(length))\n",
    "    for _ in range(rounds):\n",
    "        for i, value in enumerate(data):\n",
    "            if value == 0:\n",
    "                continue\n",
    "\n",
    "            original_index = result.index(i)\n",
    "            result.pop(original_index)\n",
    "            new_index = (original_index + value) % (length - 1)\n",
    "            if new_index == 0:\n",
    "                new_index = length - 1\n",
    "            result.insert(new_index, i)\n",
    "\n",
    "    index = result.index(data.index(0))\n",
    "    return (\n",
    "        data[result[(index + 1000) % length]]\n",
    "        + data[result[(index + 2000) % length]]\n",
    "        + data[result[(index + 3000) % length]]\n",
    "    )"
   ]
  },
  {
   "cell_type": "code",
   "execution_count": 4,
   "metadata": {},
   "outputs": [],
   "source": [
    "def part_a(data):\n",
    "    return mix(data, 1)"
   ]
  },
  {
   "cell_type": "code",
   "execution_count": 5,
   "metadata": {},
   "outputs": [],
   "source": [
    "def part_b(data):\n",
    "    return mix([value * 811589153 for value in data], 10)"
   ]
  },
  {
   "cell_type": "code",
   "execution_count": 6,
   "metadata": {},
   "outputs": [
    {
     "name": "stdout",
     "output_type": "stream",
     "text": [
      "part a: 3\n",
      "part b: 1623178306\n"
     ]
    }
   ],
   "source": [
    "data = read_input(parent=__vsc_ipynb_file__, val_type=int, sample=\"a\")\n",
    "\n",
    "print(\"part a:\", part_a(data))\n",
    "print(\"part b:\", part_b(data))"
   ]
  },
  {
   "cell_type": "code",
   "execution_count": 7,
   "metadata": {},
   "outputs": [
    {
     "name": "stdout",
     "output_type": "stream",
     "text": [
      "part a: 7713\n",
      "part b: 1664569352803\n"
     ]
    }
   ],
   "source": [
    "data = read_input(parent=__vsc_ipynb_file__, val_type=int)\n",
    "\n",
    "print(\"part a:\", part_a(data))\n",
    "print(\"part b:\", part_b(data))"
   ]
  }
 ],
 "metadata": {
  "kernelspec": {
   "display_name": "Python 3",
   "language": "python",
   "name": "python3"
  },
  "language_info": {
   "codemirror_mode": {
    "name": "ipython",
    "version": 3
   },
   "file_extension": ".py",
   "mimetype": "text/x-python",
   "name": "python",
   "nbconvert_exporter": "python",
   "pygments_lexer": "ipython3",
   "version": "3.8.10"
  },
  "orig_nbformat": 4,
  "vscode": {
   "interpreter": {
    "hash": "916dbcbb3f70747c44a77c7bcd40155683ae19c65e1c03b4aa3499c5328201f1"
   }
  }
 },
 "nbformat": 4,
 "nbformat_minor": 2
}
