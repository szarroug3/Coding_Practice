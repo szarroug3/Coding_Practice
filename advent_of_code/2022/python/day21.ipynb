{
 "cells": [
  {
   "cell_type": "code",
   "execution_count": 1,
   "metadata": {},
   "outputs": [],
   "source": [
    "# !/bin/python3\n",
    "# https://adventofcode.com/2022/day/21\n",
    "\n",
    "%load_ext lab_black"
   ]
  },
  {
   "cell_type": "code",
   "execution_count": 2,
   "metadata": {},
   "outputs": [],
   "source": [
    "import json\n",
    "\n",
    "from copy import deepcopy\n",
    "from utils import read_input"
   ]
  },
  {
   "cell_type": "code",
   "execution_count": 3,
   "metadata": {},
   "outputs": [],
   "source": [
    "def parse(input):\n",
    "    data = {}\n",
    "    for line in input:\n",
    "        line = line.split(\": \")\n",
    "        name = line[0]\n",
    "        if line[1].isnumeric():\n",
    "            data[name] = int(line[1])\n",
    "        else:\n",
    "            data[name] = line[1].split(\" \")\n",
    "    return data"
   ]
  },
  {
   "cell_type": "code",
   "execution_count": 4,
   "metadata": {},
   "outputs": [],
   "source": [
    "def add(data, a, b):\n",
    "    a = get_value(data, a)\n",
    "    b = get_value(data, b)\n",
    "    return a + b\n",
    "\n",
    "\n",
    "def subtract(data, a, b):\n",
    "    a = get_value(data, a)\n",
    "    b = get_value(data, b)\n",
    "    return a - b\n",
    "\n",
    "\n",
    "def multiply(data, a, b):\n",
    "    a = get_value(data, a)\n",
    "    b = get_value(data, b)\n",
    "    return a * b\n",
    "\n",
    "\n",
    "def divide(data, a, b):\n",
    "    a = get_value(data, a)\n",
    "    b = get_value(data, b)\n",
    "    return a // b\n",
    "\n",
    "\n",
    "operations = {\"+\": add, \"-\": subtract, \"*\": multiply, \"/\": divide}\n",
    "\n",
    "\n",
    "def get_value(data, name):\n",
    "    if type(name) == int:\n",
    "        return name\n",
    "\n",
    "    if type(data[name]) != list:\n",
    "        return data[name]\n",
    "\n",
    "    values = data[name]\n",
    "    operation = operations[values[1]]\n",
    "    a = values[0]\n",
    "    b = values[2]\n",
    "\n",
    "    result = operation(data, get_value(data, a), get_value(data, b))\n",
    "    return result"
   ]
  },
  {
   "cell_type": "code",
   "execution_count": 5,
   "metadata": {},
   "outputs": [],
   "source": [
    "def part_a(data):\n",
    "    return get_value(data, \"root\")"
   ]
  },
  {
   "cell_type": "code",
   "execution_count": 6,
   "metadata": {},
   "outputs": [],
   "source": [
    "def track(data, name, queue=[], has_humn=False):\n",
    "    if type(name) == int or name == \"humn\":\n",
    "        queue.append(name)\n",
    "        return queue, has_humn\n",
    "\n",
    "    if type(data[name]) == int:\n",
    "        queue.append(data[name])\n",
    "        return queue, has_humn\n",
    "\n",
    "    values = data[name]\n",
    "    if \"humn\" in values:\n",
    "        has_humn = True\n",
    "\n",
    "    operation = values[1]\n",
    "    a = values[0]\n",
    "    b = values[2]\n",
    "\n",
    "    curr = [operation]\n",
    "    curr, has_humn = track(data, a, queue=curr, has_humn=has_humn)\n",
    "    curr, has_humn = track(data, b, queue=curr, has_humn=has_humn)\n",
    "\n",
    "    queue.append(curr)\n",
    "    return queue, has_humn\n",
    "\n",
    "\n",
    "def get_opposite_operation(data, operation, parent, value, value_is_first=True):\n",
    "    if operation == \"*\":\n",
    "        return operations[\"/\"](data, parent, value)\n",
    "\n",
    "    if operation == \"/\":\n",
    "        if value_is_first:\n",
    "            return operations[\"/\"](data, value, parent)\n",
    "        return operations[\"*\"](data, parent, value)\n",
    "\n",
    "    if operation == \"+\":\n",
    "        return operations[\"-\"](data, parent, value)\n",
    "\n",
    "    if operation == \"-\":\n",
    "        if value_is_first:\n",
    "            return operations[\"-\"](data, value, parent)\n",
    "        return operations[\"+\"](data, parent, value)\n",
    "\n",
    "\n",
    "def calculate(data, queue, parent=None):\n",
    "    op = queue[0]\n",
    "    a = queue[1]\n",
    "    b = queue[2]\n",
    "\n",
    "    if a == \"humn\":\n",
    "        if type(b) == list:\n",
    "            b = calculate(data, b)\n",
    "        return get_opposite_operation(data, op, parent, b, value_is_first=False)\n",
    "\n",
    "    if b == \"humn\":\n",
    "        if type(a) == list:\n",
    "            a = calculate(data, a)\n",
    "        return get_opposite_operation(data, op, parent, a)\n",
    "\n",
    "    if type(a) == list:\n",
    "        if \"humn\" in json.dumps(a):\n",
    "            if type(b) == list:\n",
    "                b = calculate(data, b)\n",
    "            if parent:\n",
    "                b = get_opposite_operation(data, op, parent, b, value_is_first=False)\n",
    "            return calculate(data, a, parent=b)\n",
    "        a = calculate(data, a)\n",
    "\n",
    "    if type(b) == list:\n",
    "        if \"humn\" in json.dumps(b):\n",
    "            if type(a) == list:\n",
    "                a = calculate(data, a)\n",
    "            if parent:\n",
    "                a = get_opposite_operation(data, op, parent, a)\n",
    "            return calculate(data, b, parent=a)\n",
    "        b = calculate(data, b)\n",
    "\n",
    "    return operations[op](data, a, b)"
   ]
  },
  {
   "cell_type": "code",
   "execution_count": 7,
   "metadata": {},
   "outputs": [],
   "source": [
    "def part_b(data):\n",
    "    del data[\"humn\"]\n",
    "\n",
    "    a, is_a_humn = track(data, data[\"root\"][0], queue=[])\n",
    "    b, is_b_humn = track(data, data[\"root\"][2], queue=[])\n",
    "\n",
    "    humn = a if is_a_humn else b\n",
    "    humn = b if is_b_humn else a\n",
    "    non_humn = a if not is_a_humn else b\n",
    "    non_humn = b if not is_b_humn else a\n",
    "\n",
    "    non_humn = calculate(data, non_humn[0])\n",
    "    return calculate(data, humn[0], parent=non_humn)"
   ]
  },
  {
   "cell_type": "code",
   "execution_count": 8,
   "metadata": {},
   "outputs": [
    {
     "name": "stdout",
     "output_type": "stream",
     "text": [
      "part a: 152\n",
      "part b: 301\n"
     ]
    }
   ],
   "source": [
    "data = parse(read_input(parent=__vsc_ipynb_file__, sample=\"a\"))\n",
    "\n",
    "print(\"part a:\", part_a(deepcopy(data)))\n",
    "print(\"part b:\", part_b(data))"
   ]
  },
  {
   "cell_type": "code",
   "execution_count": 9,
   "metadata": {},
   "outputs": [
    {
     "name": "stdout",
     "output_type": "stream",
     "text": [
      "part a: 157714751182692\n",
      "part b: 3373767893067\n"
     ]
    }
   ],
   "source": [
    "data = parse(read_input(parent=__vsc_ipynb_file__))\n",
    "\n",
    "print(\"part a:\", part_a(deepcopy(data)))\n",
    "print(\"part b:\", part_b(data))"
   ]
  }
 ],
 "metadata": {
  "kernelspec": {
   "display_name": "Python 3",
   "language": "python",
   "name": "python3"
  },
  "language_info": {
   "codemirror_mode": {
    "name": "ipython",
    "version": 3
   },
   "file_extension": ".py",
   "mimetype": "text/x-python",
   "name": "python",
   "nbconvert_exporter": "python",
   "pygments_lexer": "ipython3",
   "version": "3.8.10"
  },
  "orig_nbformat": 4,
  "vscode": {
   "interpreter": {
    "hash": "916dbcbb3f70747c44a77c7bcd40155683ae19c65e1c03b4aa3499c5328201f1"
   }
  }
 },
 "nbformat": 4,
 "nbformat_minor": 2
}
