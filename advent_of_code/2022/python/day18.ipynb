{
 "cells": [
  {
   "cell_type": "code",
   "execution_count": 1,
   "metadata": {},
   "outputs": [],
   "source": [
    "# !/bin/python3\n",
    "# https://adventofcode.com/2022/day/18\n",
    "\n",
    "%load_ext lab_black"
   ]
  },
  {
   "cell_type": "code",
   "execution_count": 2,
   "metadata": {},
   "outputs": [],
   "source": [
    "from utils import read_input"
   ]
  },
  {
   "cell_type": "code",
   "execution_count": 3,
   "metadata": {},
   "outputs": [],
   "source": [
    "def make_map(scan):\n",
    "    cubes = {}\n",
    "    for x, y, z in scan:\n",
    "        if x not in cubes:\n",
    "            cubes[x] = {}\n",
    "        if y not in cubes[x]:\n",
    "            cubes[x][y] = []\n",
    "        cubes[x][y].append(z)\n",
    "    return cubes"
   ]
  },
  {
   "cell_type": "code",
   "execution_count": 4,
   "metadata": {},
   "outputs": [],
   "source": [
    "def part_a(scan):\n",
    "    cubes = make_map(scan)\n",
    "    count = 0\n",
    "\n",
    "    sides = [(-1, 0, 0), (0, -1, 0), (0, 0, -1), (1, 0, 0), (0, 1, 0), (0, 0, 1)]\n",
    "    for x_offset, y_offset, z_offset in sides:\n",
    "        for x, y_values in cubes.items():\n",
    "            for y, z_values in y_values.items():\n",
    "                for z in z_values:\n",
    "                    if z + z_offset not in cubes.get(x + x_offset, {}).get(\n",
    "                        y + y_offset, []\n",
    "                    ):\n",
    "                        count += 1\n",
    "\n",
    "    return count"
   ]
  },
  {
   "cell_type": "code",
   "execution_count": 5,
   "metadata": {},
   "outputs": [],
   "source": [
    "def get_points(scan):\n",
    "    x_points = {}\n",
    "    y_points = {}\n",
    "    z_points = {}\n",
    "\n",
    "    for x, y, z in scan:\n",
    "        x_points = update_points(x_points, x, y, z)\n",
    "        y_points = update_points(y_points, y, x, z)\n",
    "        z_points = update_points(z_points, z, x, y)\n",
    "\n",
    "    return x_points, y_points, z_points\n",
    "\n",
    "\n",
    "def update_points(points, a, b, c):\n",
    "    if (b, c) not in points:\n",
    "        points[(b, c)] = []\n",
    "\n",
    "    points[(b, c)].append(a)\n",
    "    return points\n",
    "\n",
    "\n",
    "def get_potential_holes(scan):\n",
    "    potential = set()\n",
    "    points = {}\n",
    "\n",
    "    sides = [(-1, 0, 0), (0, -1, 0), (0, 0, -1), (1, 0, 0), (0, 1, 0), (0, 0, 1)]\n",
    "    for x, y, z in scan:\n",
    "        for x_offset, y_offset, z_offset in sides:\n",
    "            holes = find_holes(scan, x, y, z)\n",
    "            if not holes:\n",
    "                continue\n",
    "\n",
    "            if ((x, y, z)) not in points:\n",
    "                points[(x, y, z)] = set()\n",
    "\n",
    "            points[(x, y, z)].update(holes)\n",
    "            potential.update(holes)\n",
    "    return points, potential\n",
    "\n",
    "\n",
    "def find_holes(scan, x, y, z):\n",
    "    holes = set()\n",
    "    sides = [(-1, 0, 0), (0, -1, 0), (0, 0, -1), (1, 0, 0), (0, 1, 0), (0, 0, 1)]\n",
    "    for x_offset, y_offset, z_offset in sides:\n",
    "        curr_x = x + x_offset\n",
    "        curr_y = y + y_offset\n",
    "        curr_z = z + z_offset\n",
    "        if [curr_x, curr_y, curr_z] not in scan:\n",
    "            holes.add((curr_x, curr_y, curr_z))\n",
    "    return holes\n",
    "\n",
    "\n",
    "def find_edges(scan, potential, x_points, y_points, z_points):\n",
    "    holes = set()\n",
    "    edges = set()\n",
    "\n",
    "    for point in potential:\n",
    "        if point in holes or point in edges:\n",
    "            continue\n",
    "\n",
    "        group = set()\n",
    "        check = [point]\n",
    "        edge = False\n",
    "        while check:\n",
    "            x, y, z = check.pop()\n",
    "            if (x, y, z) in group:\n",
    "                continue\n",
    "            group.add((x, y, z))\n",
    "\n",
    "            if (\n",
    "                is_point_on_edge(x_points, x, y, z)\n",
    "                or is_point_on_edge(y_points, y, x, z)\n",
    "                or is_point_on_edge(z_points, z, x, y)\n",
    "            ):\n",
    "                edges.update(group)\n",
    "                edge = True\n",
    "                break\n",
    "\n",
    "            new_points = find_holes(scan, *point)\n",
    "            check.extend(new_points)\n",
    "        if not edge:\n",
    "            holes.update(group)\n",
    "\n",
    "    return edges\n",
    "\n",
    "\n",
    "def is_point_on_edge(points, a, b, c):\n",
    "    if (b, c) not in points:\n",
    "        return False\n",
    "\n",
    "    if a < min(points[(b, c)]):\n",
    "        return True\n",
    "\n",
    "    if a > max(points[(b, c)]):\n",
    "        return True\n",
    "\n",
    "    return False"
   ]
  },
  {
   "cell_type": "code",
   "execution_count": 6,
   "metadata": {},
   "outputs": [],
   "source": [
    "def part_b(scan):\n",
    "    x_points, y_points, z_points = get_points(scan)\n",
    "    points, potential_holes = get_potential_holes(scan)\n",
    "    edges = find_edges(scan, potential_holes, x_points, y_points, z_points)\n",
    "\n",
    "    count = 0\n",
    "    for potential in points.values():\n",
    "        for point in potential:\n",
    "            if point in edges:\n",
    "                count += 1\n",
    "    return count"
   ]
  },
  {
   "cell_type": "code",
   "execution_count": 7,
   "metadata": {},
   "outputs": [
    {
     "name": "stdout",
     "output_type": "stream",
     "text": [
      "part a: 10\n",
      "part b: 10\n"
     ]
    }
   ],
   "source": [
    "scan = read_input(\n",
    "    parent=__vsc_ipynb_file__, line_delimiter=\",\", val_type=int, sample=\"a\"\n",
    ")\n",
    "\n",
    "\n",
    "print(\"part a:\", part_a(scan))\n",
    "print(\"part b:\", part_b(scan))"
   ]
  },
  {
   "cell_type": "code",
   "execution_count": 8,
   "metadata": {},
   "outputs": [
    {
     "name": "stdout",
     "output_type": "stream",
     "text": [
      "part a: 64\n",
      "part b: 58\n"
     ]
    }
   ],
   "source": [
    "scan = read_input(\n",
    "    parent=__vsc_ipynb_file__, line_delimiter=\",\", val_type=int, sample=\"b\"\n",
    ")\n",
    "\n",
    "print(\"part a:\", part_a(scan))\n",
    "print(\"part b:\", part_b(scan))"
   ]
  },
  {
   "cell_type": "code",
   "execution_count": 9,
   "metadata": {},
   "outputs": [
    {
     "name": "stdout",
     "output_type": "stream",
     "text": [
      "part a: 4444\n",
      "part b: 2530\n"
     ]
    }
   ],
   "source": [
    "scan = read_input(parent=__vsc_ipynb_file__, line_delimiter=\",\", val_type=int)\n",
    "\n",
    "print(\"part a:\", part_a(scan))\n",
    "print(\"part b:\", part_b(scan))"
   ]
  }
 ],
 "metadata": {
  "kernelspec": {
   "display_name": "Python 3",
   "language": "python",
   "name": "python3"
  },
  "language_info": {
   "codemirror_mode": {
    "name": "ipython",
    "version": 3
   },
   "file_extension": ".py",
   "mimetype": "text/x-python",
   "name": "python",
   "nbconvert_exporter": "python",
   "pygments_lexer": "ipython3",
   "version": "3.8.10"
  },
  "orig_nbformat": 4,
  "vscode": {
   "interpreter": {
    "hash": "916dbcbb3f70747c44a77c7bcd40155683ae19c65e1c03b4aa3499c5328201f1"
   }
  }
 },
 "nbformat": 4,
 "nbformat_minor": 2
}
