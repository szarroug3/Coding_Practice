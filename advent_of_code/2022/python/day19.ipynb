{
 "cells": [
  {
   "cell_type": "code",
   "execution_count": 1,
   "metadata": {},
   "outputs": [],
   "source": [
    "# !/bin/python3\n",
    "# https://adventofcode.com/2022/day/19\n",
    "\n",
    "%load_ext lab_black"
   ]
  },
  {
   "cell_type": "code",
   "execution_count": 2,
   "metadata": {},
   "outputs": [],
   "source": [
    "import math\n",
    "import re\n",
    "\n",
    "from utils import read_input\n",
    "\n",
    "pattern = re.compile(\"(\\d+)\")"
   ]
  },
  {
   "cell_type": "code",
   "execution_count": 3,
   "metadata": {},
   "outputs": [],
   "source": [
    "def parse(data):\n",
    "    blueprints = {}\n",
    "    for line in data:\n",
    "        match = pattern.findall(line)\n",
    "        blueprints[int(match[0])] = [\n",
    "            [int(match[1]), 0, 0, 0],\n",
    "            [int(match[2]), 0, 0, 0],\n",
    "            [int(match[3]), int(match[4]), 0, 0],\n",
    "            [int(match[5]), 0, int(match[6]), 0],\n",
    "        ]\n",
    "    return blueprints"
   ]
  },
  {
   "cell_type": "code",
   "execution_count": 4,
   "metadata": {},
   "outputs": [],
   "source": [
    "def get_best_output(blueprint, configs, max_ore, best, max_time, geodes=0):\n",
    "    if not configs:\n",
    "        return geodes\n",
    "\n",
    "    curr_configs = []\n",
    "    for config in configs:\n",
    "        robots = config[0]\n",
    "        time = config[2]\n",
    "        if best.get(robots, max_time + 1) < time:\n",
    "            continue\n",
    "\n",
    "        best[robots] = time\n",
    "        resources = config[1]\n",
    "\n",
    "        for robot in get_robot_options(blueprint, robots, max_ore):\n",
    "            time_until_next_robot = get_time_until_next_robot(\n",
    "                blueprint, robots, resources, robot\n",
    "            )\n",
    "            curr_time = time + time_until_next_robot\n",
    "\n",
    "            if curr_time >= max_time:\n",
    "                curr_geodes = resources[3] + (robots[3] * (max_time - time))\n",
    "                if curr_geodes > geodes:\n",
    "                    geodes = curr_geodes\n",
    "                continue\n",
    "\n",
    "            curr_resources = []\n",
    "            for curr_robot, count in enumerate(robots):\n",
    "                curr_resources.append(\n",
    "                    resources[curr_robot] + (count * time_until_next_robot)\n",
    "                )\n",
    "\n",
    "            curr_robots = tuple(\n",
    "                r + 1 if i == robot else r for i, r in enumerate(robots)\n",
    "            )\n",
    "\n",
    "            curr_resources = make_robot(blueprint[robot], curr_resources)\n",
    "\n",
    "            if best.get(curr_robots, max_time + 1) < curr_time:\n",
    "                continue\n",
    "\n",
    "            best[curr_robots] = curr_time\n",
    "\n",
    "            if curr_resources[3] > geodes:\n",
    "                geodes = curr_resources[3]\n",
    "\n",
    "            curr_configs.append((curr_robots, curr_resources, curr_time))\n",
    "\n",
    "    return get_best_output(\n",
    "        blueprint, tuple(curr_configs), max_ore, best, max_time, geodes=geodes\n",
    "    )\n",
    "\n",
    "\n",
    "def get_robot_options(blueprint, robots, max_ore):\n",
    "    options = []\n",
    "    if have_robots_to_make_robot(blueprint, robots, 3):\n",
    "        options.append(3)\n",
    "    if robots[2] < blueprint[3][2]:\n",
    "        if have_robots_to_make_robot(blueprint, robots, 2):\n",
    "            options.append(2)\n",
    "    if robots[1] < blueprint[2][1]:\n",
    "        if have_robots_to_make_robot(blueprint, robots, 1):\n",
    "            options.append(1)\n",
    "    if robots[0] < max_ore:\n",
    "        if have_robots_to_make_robot(blueprint, robots, 0):\n",
    "            options.append(0)\n",
    "    return options\n",
    "\n",
    "\n",
    "def have_robots_to_make_robot(blueprint, robots, robot):\n",
    "    for resource, amount in enumerate(blueprint[robot]):\n",
    "        if amount == 0:\n",
    "            continue\n",
    "\n",
    "        if robots[resource] == 0:\n",
    "            return False\n",
    "    return True\n",
    "\n",
    "\n",
    "def get_time_until_next_robot(blueprint, robots, resources, robot):\n",
    "    time = 0\n",
    "    for resource, amount in enumerate(blueprint[robot]):\n",
    "        if amount == 0:\n",
    "            continue\n",
    "\n",
    "        needed = amount - resources[resource]\n",
    "        rounds = math.ceil(needed / robots[resource])\n",
    "        if rounds > time:\n",
    "            time = rounds\n",
    "    return time + 1\n",
    "\n",
    "\n",
    "def make_robot(blueprint, resources):\n",
    "    for resource, needed in enumerate(blueprint):\n",
    "        resources[resource] -= needed\n",
    "    return tuple(resources)"
   ]
  },
  {
   "cell_type": "code",
   "execution_count": 5,
   "metadata": {},
   "outputs": [],
   "source": [
    "def part_a(blueprints):\n",
    "    robots = (1, 0, 0, 0)\n",
    "    resources = (0, 0, 0, 0)\n",
    "\n",
    "    total = 0\n",
    "    for id, blueprint in blueprints.items():\n",
    "        max_ore = max(blueprint, key=lambda b: b[0])[0]\n",
    "        curr = id * get_best_output(\n",
    "            blueprint, [(robots, resources, 0)], max_ore, {}, 24\n",
    "        )\n",
    "        total += curr\n",
    "    return total"
   ]
  },
  {
   "cell_type": "code",
   "execution_count": 6,
   "metadata": {},
   "outputs": [],
   "source": [
    "def part_b(blueprints):\n",
    "    robots = (1, 0, 0, 0)\n",
    "    resources = (0, 0, 0, 0)\n",
    "\n",
    "    total = 1\n",
    "    for id, blueprint in blueprints.items():\n",
    "        if id > 3:\n",
    "            continue\n",
    "        max_ore = max(blueprint, key=lambda b: b[0])[0]\n",
    "        total *= get_best_output(blueprint, [(robots, resources, 0)], max_ore, {}, 32)\n",
    "    return total"
   ]
  },
  {
   "cell_type": "code",
   "execution_count": 9,
   "metadata": {},
   "outputs": [
    {
     "name": "stdout",
     "output_type": "stream",
     "text": [
      "part a: 33\n"
     ]
    }
   ],
   "source": [
    "blueprints = parse(read_input(parent=__vsc_ipynb_file__, sample=\"a\"))\n",
    "\n",
    "print(\"part a:\", part_a(blueprints))\n",
    "# print(\"part b:\", part_b(blueprints))"
   ]
  },
  {
   "cell_type": "code",
   "execution_count": 10,
   "metadata": {},
   "outputs": [
    {
     "name": "stdout",
     "output_type": "stream",
     "text": [
      "part a: 1382\n",
      "part b: 31740\n"
     ]
    }
   ],
   "source": [
    "blueprints = parse(read_input(parent=__vsc_ipynb_file__))\n",
    "\n",
    "print(\"part a:\", part_a(blueprints))\n",
    "print(\"part b:\", part_b(blueprints))"
   ]
  }
 ],
 "metadata": {
  "kernelspec": {
   "display_name": "Python 3",
   "language": "python",
   "name": "python3"
  },
  "language_info": {
   "codemirror_mode": {
    "name": "ipython",
    "version": 3
   },
   "file_extension": ".py",
   "mimetype": "text/x-python",
   "name": "python",
   "nbconvert_exporter": "python",
   "pygments_lexer": "ipython3",
   "version": "3.8.10"
  },
  "orig_nbformat": 4,
  "vscode": {
   "interpreter": {
    "hash": "916dbcbb3f70747c44a77c7bcd40155683ae19c65e1c03b4aa3499c5328201f1"
   }
  }
 },
 "nbformat": 4,
 "nbformat_minor": 2
}
