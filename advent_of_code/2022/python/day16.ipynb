{
 "cells": [
  {
   "cell_type": "code",
   "execution_count": 1,
   "metadata": {},
   "outputs": [],
   "source": [
    "# !/bin/python3\n",
    "# https://adventofcode.com/2022/day/16\n",
    "\n",
    "%load_ext lab_black"
   ]
  },
  {
   "cell_type": "code",
   "execution_count": 2,
   "metadata": {},
   "outputs": [],
   "source": [
    "import re\n",
    "import sys\n",
    "\n",
    "from copy import copy\n",
    "from itertools import combinations\n",
    "from itertools import zip_longest\n",
    "from utils import read_input\n",
    "\n",
    "\n",
    "pattern = re.compile(\"Valve (.*) has flow rate=(\\d+); tunnels? leads? to valves? (.*)\")"
   ]
  },
  {
   "cell_type": "code",
   "execution_count": 3,
   "metadata": {},
   "outputs": [],
   "source": [
    "def parse(line):\n",
    "    match = pattern.search(line).groups(0)\n",
    "    return match[0], int(match[1]), match[2].split(\", \")\n",
    "\n",
    "\n",
    "def make_map(input):\n",
    "    valves = {}\n",
    "    for name, rate, destinations in input:\n",
    "        valves[name] = {\"rate\": rate, \"destinations\": destinations}\n",
    "\n",
    "    for valve, data in valves.items():\n",
    "        data[\"distances\"] = dijkstra(valves, valve)\n",
    "\n",
    "    return valves\n",
    "\n",
    "\n",
    "def dijkstra(valves, start):\n",
    "    distances = {}\n",
    "    unvisited = list(valves.keys())\n",
    "\n",
    "    for node in unvisited:\n",
    "        distances[node] = sys.maxsize\n",
    "    distances[start] = 0\n",
    "\n",
    "    while unvisited:\n",
    "        curr = None\n",
    "        for node in unvisited:\n",
    "            if curr == None or distances[node] < distances[curr]:\n",
    "                curr = node\n",
    "\n",
    "        for node in valves[curr][\"destinations\"]:\n",
    "            value = distances[curr] + 1\n",
    "            if value < distances[node]:\n",
    "                distances[node] = value\n",
    "\n",
    "        unvisited.remove(curr)\n",
    "\n",
    "    return distances"
   ]
  },
  {
   "cell_type": "code",
   "execution_count": 4,
   "metadata": {},
   "outputs": [],
   "source": [
    "def get_max_pressure(valves, useful, time, start=\"AA\", pressure=0, max_pressure=0):\n",
    "    for valve in useful:\n",
    "        curr_time = time - valves[start][\"distances\"][valve] - 1\n",
    "        if curr_time < 0:\n",
    "            continue\n",
    "\n",
    "        curr_pressure = pressure + (curr_time * valves[valve][\"rate\"])\n",
    "        if curr_pressure > max_pressure:\n",
    "            max_pressure = curr_pressure\n",
    "\n",
    "        curr_useful = copy(useful)\n",
    "        curr_useful.remove(valve)\n",
    "\n",
    "        max_pressure = get_max_pressure(\n",
    "            valves,\n",
    "            curr_useful,\n",
    "            curr_time,\n",
    "            start=valve,\n",
    "            pressure=curr_pressure,\n",
    "            max_pressure=max_pressure,\n",
    "        )\n",
    "    return max_pressure"
   ]
  },
  {
   "cell_type": "code",
   "execution_count": 5,
   "metadata": {},
   "outputs": [],
   "source": [
    "def part_a(valves):\n",
    "    useful = [name for name, data in valves.items() if data[\"rate\"] > 0]\n",
    "    return get_max_pressure(valves, useful, 30)"
   ]
  },
  {
   "cell_type": "code",
   "execution_count": 6,
   "metadata": {},
   "outputs": [],
   "source": [
    "def part_b(valves):\n",
    "    useful = set(name for name, data in valves.items() if data[\"rate\"] > 0)\n",
    "    total = len(useful)\n",
    "    tried = {}\n",
    "\n",
    "    max_pressure = 0\n",
    "    for me in range((total // 2) - 1, (total // 2) + 1):\n",
    "        elephant = total - me\n",
    "        for my_valves in combinations(useful, me):\n",
    "            my_valves = tuple(my_valves)\n",
    "            if my_valves in tried:\n",
    "                continue\n",
    "            tried[my_valves] = True\n",
    "\n",
    "            elephant_valves = (valve for valve in useful if valve not in my_valves)\n",
    "            if elephant_valves in tried:\n",
    "                continue\n",
    "            tried[elephant_valves] = True\n",
    "\n",
    "            pressure = get_max_pressure(valves, list(my_valves), 26)\n",
    "            pressure += get_max_pressure(valves, list(elephant_valves), 26)\n",
    "\n",
    "            if pressure > max_pressure:\n",
    "                max_pressure = pressure\n",
    "    return max_pressure"
   ]
  },
  {
   "cell_type": "code",
   "execution_count": 7,
   "metadata": {},
   "outputs": [
    {
     "name": "stdout",
     "output_type": "stream",
     "text": [
      "part a: 1651\n",
      "part b: 1707\n"
     ]
    }
   ],
   "source": [
    "valves = make_map(read_input(parent=__vsc_ipynb_file__, val_type=parse, sample=\"a\"))\n",
    "\n",
    "print(\"part a:\", part_a(valves))\n",
    "print(\"part b:\", part_b(valves))"
   ]
  },
  {
   "cell_type": "code",
   "execution_count": 8,
   "metadata": {},
   "outputs": [
    {
     "name": "stdout",
     "output_type": "stream",
     "text": [
      "part a: 1850\n",
      "part b: 2306\n"
     ]
    }
   ],
   "source": [
    "valves = make_map(read_input(parent=__vsc_ipynb_file__, val_type=parse))\n",
    "\n",
    "print(\"part a:\", part_a(valves))\n",
    "print(\"part b:\", part_b(valves))"
   ]
  }
 ],
 "metadata": {
  "kernelspec": {
   "display_name": "Python 3",
   "language": "python",
   "name": "python3"
  },
  "language_info": {
   "codemirror_mode": {
    "name": "ipython",
    "version": 3
   },
   "file_extension": ".py",
   "mimetype": "text/x-python",
   "name": "python",
   "nbconvert_exporter": "python",
   "pygments_lexer": "ipython3",
   "version": "3.8.10"
  },
  "orig_nbformat": 4,
  "vscode": {
   "interpreter": {
    "hash": "916dbcbb3f70747c44a77c7bcd40155683ae19c65e1c03b4aa3499c5328201f1"
   }
  }
 },
 "nbformat": 4,
 "nbformat_minor": 2
}
