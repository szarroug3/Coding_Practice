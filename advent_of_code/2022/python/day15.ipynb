{
 "cells": [
  {
   "cell_type": "code",
   "execution_count": 1,
   "metadata": {},
   "outputs": [],
   "source": [
    "# !/bin/python3\n",
    "# https://adventofcode.com/2022/day/15\n",
    "\n",
    "%load_ext lab_black"
   ]
  },
  {
   "cell_type": "code",
   "execution_count": 2,
   "metadata": {},
   "outputs": [],
   "source": [
    "import math\n",
    "import re\n",
    "\n",
    "from collections import defaultdict\n",
    "from utils import read_input\n",
    "\n",
    "pattern = re.compile(\"x=(-?\\d+), y=(-?\\d+): closest beacon is at x=(-?\\d+), y=(-?\\d+)\")"
   ]
  },
  {
   "cell_type": "code",
   "execution_count": 3,
   "metadata": {},
   "outputs": [],
   "source": [
    "def parse(line):\n",
    "    match = pattern.search(line).groups(0)\n",
    "    return [(int(match[1]), int(match[0])), (int(match[3]), int(match[2]))]\n",
    "\n",
    "\n",
    "def make_map(sensors):\n",
    "    data = {}\n",
    "    for sensor, beacon in sensors:\n",
    "        distance = abs(sensor[0] - beacon[0]) + abs(sensor[1] - beacon[1])\n",
    "        data[sensor] = {\"beacon\": beacon, \"distance\": distance}\n",
    "    return data"
   ]
  },
  {
   "cell_type": "code",
   "execution_count": 4,
   "metadata": {},
   "outputs": [],
   "source": [
    "def get_impossible_beacon_locations(sensors, row):\n",
    "    min_column, max_column = get_map_edges(sensors)\n",
    "    impossible = get_sensor_ranges(sensors, row, min_column, max_column)\n",
    "\n",
    "    return impossible\n",
    "\n",
    "\n",
    "def get_map_edges(sensors):\n",
    "    columns = set()\n",
    "    for sensor, data in sensors.items():\n",
    "        columns.add(sensor[1])\n",
    "        columns.add(data[\"beacon\"][1])\n",
    "    return min(columns), max(columns)\n",
    "\n",
    "\n",
    "def get_sensor_ranges(sensors, row, min_column, max_column):\n",
    "    impossible = set()\n",
    "    for sensor, data in sensors.items():\n",
    "        distance = data[\"distance\"] - abs(sensor[0] - row)\n",
    "\n",
    "        if distance < 0:\n",
    "            continue\n",
    "\n",
    "        left_column = sensor[1] - distance\n",
    "        right_column = sensor[1] + distance\n",
    "\n",
    "        impossible.update(range(left_column, right_column + 1))\n",
    "        if data[\"beacon\"][0] == row and data[\"beacon\"][1] in impossible:\n",
    "            impossible.remove(data[\"beacon\"][1])\n",
    "\n",
    "    return impossible"
   ]
  },
  {
   "cell_type": "code",
   "execution_count": 5,
   "metadata": {},
   "outputs": [],
   "source": [
    "def part_a(sensors, row):\n",
    "    return len(get_impossible_beacon_locations(sensors, row))"
   ]
  },
  {
   "cell_type": "code",
   "execution_count": 6,
   "metadata": {},
   "outputs": [],
   "source": [
    "def get_sensor_scan_areas(sensors, min_coor, max_coor):\n",
    "    areas = {}\n",
    "\n",
    "    for sensor, data in sensors.items():\n",
    "        row = max(min_coor, min(max_coor, sensor[0]))\n",
    "        column = max(min_coor, min(max_coor, sensor[1]))\n",
    "        areas[sensor] = {\n",
    "            \"distance\": data[\"distance\"],\n",
    "            \"top\": (sensor[0] - data[\"distance\"] - 1, sensor[1]),\n",
    "            \"bottom\": (sensor[0] + data[\"distance\"] + 1, sensor[1]),\n",
    "            \"left\": (sensor[0], sensor[1] - data[\"distance\"] - 1),\n",
    "            \"right\": (sensor[0], sensor[1] + data[\"distance\"] + 1),\n",
    "        }\n",
    "\n",
    "    return areas\n",
    "\n",
    "\n",
    "def get_distance(sensor, beacon):\n",
    "    return abs(sensor[0] - beacon[0]) + abs(sensor[1] - beacon[1])\n",
    "\n",
    "\n",
    "def check_bounds(beacon, min_coor, max_coor):\n",
    "    if beacon[0] < min_coor or beacon[0] > max_coor:\n",
    "        return False\n",
    "    if beacon[1] < min_coor or beacon[1] > max_coor:\n",
    "        return False\n",
    "    return True\n",
    "\n",
    "\n",
    "def move_inbound(beacon, min_coor, max_coor, offset):\n",
    "    if beacon[0] < min_coor:\n",
    "        beacon = (\n",
    "            beacon[0] + (offset[0] * (min_coor - beacon[0])),\n",
    "            beacon[1] + (offset[1] * (min_coor - beacon[0])),\n",
    "        )\n",
    "    if beacon[0] > max_coor:\n",
    "        beacon = (\n",
    "            beacon[0] + (offset[0] * (beacon[0] - max_coor)),\n",
    "            beacon[1] + (offset[1] * (beacon[0] - max_coor)),\n",
    "        )\n",
    "    if beacon[1] < min_coor:\n",
    "        beacon = (\n",
    "            beacon[0] + (offset[0] * (min_coor - beacon[1])),\n",
    "            beacon[1] + (offset[1] * (min_coor - beacon[1])),\n",
    "        )\n",
    "    if beacon[1] > max_coor:\n",
    "        beacon = (\n",
    "            beacon[0] + (offset[0] * (beacon[1] - max_coor)),\n",
    "            beacon[1] + (offset[1] * (beacon[1] - max_coor)),\n",
    "        )\n",
    "    return beacon\n",
    "\n",
    "\n",
    "def move_out_of_sensor_range(beacon, diff, offset):\n",
    "    diff = math.ceil((diff + 1) / 2)\n",
    "    return (\n",
    "        beacon[0] + (offset[0] * diff),\n",
    "        beacon[1] + (offset[1] * diff),\n",
    "    )\n",
    "\n",
    "\n",
    "def check_boundary(sensors, sensor, data, min_coor, max_coor):\n",
    "    corners = (data[\"top\"], data[\"bottom\"], data[\"left\"], data[\"right\"])\n",
    "    diffs = ((1, 1), (-1, -1), (-1, 1), (-1, 1))\n",
    "    for corner, offset in zip(corners, diffs):\n",
    "        beacon = corner\n",
    "        if not check_bounds(beacon, min_coor, max_coor):\n",
    "            beacon = move_inbound(beacon, min_coor, max_coor, offset)\n",
    "\n",
    "        if not check_bounds(beacon, min_coor, max_coor):\n",
    "            continue\n",
    "\n",
    "        while get_distance(sensor, beacon) <= data[\"distance\"] + 2 and check_bounds(\n",
    "            beacon, min_coor, max_coor\n",
    "        ):\n",
    "            good = True\n",
    "            for check_sensor, check_data in sensors.items():\n",
    "                if sensor == check_sensor:\n",
    "                    continue\n",
    "\n",
    "                curr_distance = get_distance(check_sensor, beacon)\n",
    "                while curr_distance <= check_data[\"distance\"]:\n",
    "                    good = False\n",
    "                    beacon = move_out_of_sensor_range(\n",
    "                        beacon, check_data[\"distance\"] - curr_distance, offset\n",
    "                    )\n",
    "                    curr_distance = get_distance(check_sensor, beacon)\n",
    "\n",
    "                    if get_distance(sensor, beacon) > data[\n",
    "                        \"distance\"\n",
    "                    ] + 2 or not check_bounds(beacon, min_coor, max_coor):\n",
    "                        break\n",
    "\n",
    "                if not good:\n",
    "                    break\n",
    "            if good:\n",
    "                return beacon"
   ]
  },
  {
   "cell_type": "code",
   "execution_count": 7,
   "metadata": {},
   "outputs": [],
   "source": [
    "def part_b(sensors, min_coor, max_coor):\n",
    "    areas = get_sensor_scan_areas(sensors, min_coor, max_coor)\n",
    "    for sensor, data in areas.items():\n",
    "        result = check_boundary(sensors, sensor, data, min_coor, max_coor)\n",
    "        if result:\n",
    "            return result[1] * 4_000_000 + result[0]"
   ]
  },
  {
   "cell_type": "code",
   "execution_count": 8,
   "metadata": {},
   "outputs": [
    {
     "name": "stdout",
     "output_type": "stream",
     "text": [
      "part a: 26\n",
      "part b: 56000011\n"
     ]
    }
   ],
   "source": [
    "sensors = make_map(read_input(parent=__vsc_ipynb_file__, val_type=parse, sample=\"a\"))\n",
    "\n",
    "print(\"part a:\", part_a(sensors, 10))\n",
    "print(\"part b:\", part_b(sensors, 0, 20))"
   ]
  },
  {
   "cell_type": "code",
   "execution_count": 9,
   "metadata": {},
   "outputs": [
    {
     "name": "stdout",
     "output_type": "stream",
     "text": [
      "part a: 5832528\n",
      "part b: 13360899249595\n"
     ]
    }
   ],
   "source": [
    "sensors = make_map(read_input(parent=__vsc_ipynb_file__, val_type=parse))\n",
    "\n",
    "print(\"part a:\", part_a(sensors, 2_000_000))\n",
    "print(\"part b:\", part_b(sensors, 0, 4_000_000))"
   ]
  }
 ],
 "metadata": {
  "kernelspec": {
   "display_name": "Python 3",
   "language": "python",
   "name": "python3"
  },
  "language_info": {
   "codemirror_mode": {
    "name": "ipython",
    "version": 3
   },
   "file_extension": ".py",
   "mimetype": "text/x-python",
   "name": "python",
   "nbconvert_exporter": "python",
   "pygments_lexer": "ipython3",
   "version": "3.8.10"
  },
  "orig_nbformat": 4,
  "vscode": {
   "interpreter": {
    "hash": "916dbcbb3f70747c44a77c7bcd40155683ae19c65e1c03b4aa3499c5328201f1"
   }
  }
 },
 "nbformat": 4,
 "nbformat_minor": 2
}
